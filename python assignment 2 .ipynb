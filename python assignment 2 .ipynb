{
 "cells": [
  {
   "cell_type": "code",
   "execution_count": 1,
   "metadata": {},
   "outputs": [
    {
     "name": "stdout",
     "output_type": "stream",
     "text": [
      "Enter marks of English\t :79\n",
      "Enter marks of Urdu\t :89\n",
      "Enter marks of Chemistry :70\n",
      "Enter marks of Physics\t :60\n",
      "Enter marks of Pak.studies:50\n",
      "\n",
      "\n",
      "\t\tTotal\t\t:\t\t 348\n",
      "\n",
      "\n",
      "\t\tPercntage\t\t:\t\t 69.6 %\n",
      "Grade: B\n"
     ]
    }
   ],
   "source": [
    "s1=int(input(\"Enter marks of English\\t :\"))\n",
    "s2=int(input(\"Enter marks of Urdu\\t :\"))\n",
    "s3=int(input(\"Enter marks of Chemistry :\"))\n",
    "s4=int(input(\"Enter marks of Physics\\t :\"))\n",
    "s5=int(input(\"Enter marks of Pak.studies:\"))\n",
    "print(\"\\n\\n\\t\\tTotal\\t\\t:\\t\\t\",s1+s2+s3+s4+s5)\n",
    "avg=(s1+s2+s3+s4+s5)/5\n",
    "print(\"\\n\\n\\t\\tPercntage\\t\\t:\\t\\t\",avg,\"%\")\n",
    "if(avg>=80) :\n",
    "    print(\"Grade: A+\")\n",
    "elif(avg>=70 and avg<80):\n",
    "    print(\"Grade: A\")    \n",
    "elif(avg>=60 and avg<70):\n",
    "    print(\"Grade: B\")    \n",
    "elif(avg>=50 and avg<60):\n",
    "    print(\"Grade: C\")    \n",
    "elif(avg>=40 and avg<50):\n",
    "    print(\"Grade: D\")    \n",
    "\n"
   ]
  },
  {
   "cell_type": "code",
   "execution_count": 2,
   "metadata": {},
   "outputs": [
    {
     "name": "stdout",
     "output_type": "stream",
     "text": [
      "Enter any number: 5\n",
      "5 is Odd Number.\n"
     ]
    }
   ],
   "source": [
    "a=int(input(\"Enter any number: \"))\n",
    "if a%2==0 :\n",
    "    print(a, \"is Even Number.\")\n",
    "else :\n",
    "    print(a, \"is Odd Number.\")"
   ]
  },
  {
   "cell_type": "code",
   "execution_count": 3,
   "metadata": {},
   "outputs": [
    {
     "name": "stdout",
     "output_type": "stream",
     "text": [
      "the length of list is  6\n"
     ]
    }
   ],
   "source": [
    "a=[5,4,3,2,1,6]\n",
    "print(\"the length of list is \",len(a))\n"
   ]
  },
  {
   "cell_type": "code",
   "execution_count": 4,
   "metadata": {},
   "outputs": [
    {
     "name": "stdout",
     "output_type": "stream",
     "text": [
      "sum of Numbers in list is:  21\n"
     ]
    }
   ],
   "source": [
    "print (\"sum of Numbers in list is: \",sum(a))\n"
   ]
  },
  {
   "cell_type": "code",
   "execution_count": 5,
   "metadata": {},
   "outputs": [
    {
     "name": "stdout",
     "output_type": "stream",
     "text": [
      "Largest Number of List is  6\n"
     ]
    }
   ],
   "source": [
    "print(\"Largest Number of List is \" ,max(a))"
   ]
  },
  {
   "cell_type": "code",
   "execution_count": 12,
   "metadata": {},
   "outputs": [
    {
     "name": "stdout",
     "output_type": "stream",
     "text": [
      "Numbers less than 5 are :  [4, 3, 2, 1]\n"
     ]
    }
   ],
   "source": [
    "x=[num for num in a if num<5]\n",
    "print (\"Numbers less than 5 are : \",x)"
   ]
  },
  {
   "cell_type": "code",
   "execution_count": null,
   "metadata": {},
   "outputs": [],
   "source": []
  },
  {
   "cell_type": "code",
   "execution_count": null,
   "metadata": {},
   "outputs": [],
   "source": []
  }
 ],
 "metadata": {
  "kernelspec": {
   "display_name": "Python 3",
   "language": "python",
   "name": "python3"
  },
  "language_info": {
   "codemirror_mode": {
    "name": "ipython",
    "version": 3
   },
   "file_extension": ".py",
   "mimetype": "text/x-python",
   "name": "python",
   "nbconvert_exporter": "python",
   "pygments_lexer": "ipython3",
   "version": "3.7.4"
  }
 },
 "nbformat": 4,
 "nbformat_minor": 2
}
