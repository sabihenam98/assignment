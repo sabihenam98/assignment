{
 "cells": [
  {
   "cell_type": "code",
   "execution_count": 2,
   "metadata": {
    "collapsed": false
   },
   "outputs": [
    {
     "name": "stdout",
     "output_type": "stream",
     "text": [
      "Karachi\n",
      "Enam\n",
      "21\n",
      "Sabih\n",
      "{'city': 'Karachi', 'last_name': 'Enam', 'qualification': 'high academic level', 'age': 21, 'first_name': 'Sabih'}\n",
      "{'city': 'Karachi', 'last_name': 'Enam', 'age': 21, 'first_name': 'Sabih'}\n"
     ]
    }
   ],
   "source": [
    "costomer={\"first_name\" : \"Sabih\",\n",
    "         \"last_name\" : \"Enam\",\n",
    "         \"age\" : 21,\n",
    "         \"city\" : \"Karachi\",\n",
    "         }\n",
    "for each_value in costomer.values():\n",
    "    print(each_value)\n",
    "costomer.update(qualification=\"high academic level\")\n",
    "print(costomer)\n",
    "del costomer[\"qualification\"]\n",
    "print(costomer)"
   ]
  },
  {
   "cell_type": "code",
   "execution_count": 3,
   "metadata": {
    "collapsed": false
   },
   "outputs": [
    {
     "name": "stdout",
     "output_type": "stream",
     "text": [
      "{'population': '14.91 million', 'fact': 'Karachi is the Eighth largest city in the world.', 'country': 'Pakistan'}\n"
     ]
    }
   ],
   "source": [
    "cities = {\"karachi\" :{\n",
    "    \"country\" : \"Pakistan\",\n",
    "    \"population\" : \"14.91 million\",\n",
    "    \"fact\" : \"Karachi is the Eighth largest city in the world.\",\n",
    "                    },\n",
    "         \"dehli\" : { \"country\" : \"India\",\n",
    "    \"population\" : \"18.98 million\",\n",
    "    \"fact\" : \"Dehli is the national capital of India\",\n",
    "             \n",
    "         },\n",
    "         \"toronto\": {\n",
    "    \"country\" : \"Canada\" ,\n",
    "    \"population\" : \"2.93 million\",\n",
    "    \"fact\" : \"Toronto is the capital of Ontario \",\n",
    "         }   ,\n",
    "}\n",
    "print(cities[\"karachi\"])"
   ]
  },
  {
   "cell_type": "code",
   "execution_count": 4,
   "metadata": {
    "collapsed": false
   },
   "outputs": [
    {
     "name": "stdout",
     "output_type": "stream",
     "text": [
      "Enter your age: 21\n",
      "cost of Ticket is $15\n"
     ]
    }
   ],
   "source": [
    "age=int(input(\"Enter your age: \"))\n",
    "if age < 3 :\n",
    "    print(\"cost of ticket is free\")\n",
    "elif age >=3 and age < 12:\n",
    "    print (\"cost of ticket is $10\")\n",
    "elif age >=12 :\n",
    "    print (\"cost of Ticket is $15\")"
   ]
  },
  {
   "cell_type": "code",
   "execution_count": 5,
   "metadata": {
    "collapsed": false
   },
   "outputs": [
    {
     "name": "stdout",
     "output_type": "stream",
     "text": [
      "Ottoman Empire Annonymos.\n"
     ]
    }
   ],
   "source": [
    "def favoriate_book(title):\n",
    "    print(\"Ottoman Empire \"+title)\n",
    "name=\"Annonymos.\"\n",
    "favoriate_book(name)"
   ]
  },
  {
   "cell_type": "code",
   "execution_count": 6,
   "metadata": {
    "collapsed": false
   },
   "outputs": [
    {
     "name": "stdout",
     "output_type": "stream",
     "text": [
      "Enter any number: 4\n",
      "your no is lesser\n",
      "Enter any number: 6\n",
      "your no is lesser\n",
      "Enter any number: 90\n",
      "your no is greater\n",
      "\n",
      "your no is  90  & the robot no is  13\n"
     ]
    }
   ],
   "source": [
    "import random\n",
    "x=random.randint(1,30)\n",
    "for index in range(3):\n",
    "    a=int(input(\"Enter any number: \"))\n",
    "    if a==x:\n",
    "        break\n",
    "    elif a>x:\n",
    "        print(\"your no is greater\")\n",
    "    elif a<x:\n",
    "        print(\"your no is lesser\")\n",
    "print(\"\\nyour no is \",a,\" & the robot no is \",x)"
   ]
  },
  {
   "cell_type": "code",
   "execution_count": null,
   "metadata": {
    "collapsed": true
   },
   "outputs": [],
   "source": []
  }
 ],
 "metadata": {
  "anaconda-cloud": {},
  "kernelspec": {
   "display_name": "Python [default]",
   "language": "python",
   "name": "python3"
  },
  "language_info": {
   "codemirror_mode": {
    "name": "ipython",
    "version": 3
   },
   "file_extension": ".py",
   "mimetype": "text/x-python",
   "name": "python",
   "nbconvert_exporter": "python",
   "pygments_lexer": "ipython3",
   "version": "3.5.2"
  }
 },
 "nbformat": 4,
 "nbformat_minor": 1
}
