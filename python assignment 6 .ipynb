{
 "cells": [
  {
   "cell_type": "markdown",
   "metadata": {},
   "source": [
    "# Question 1:\n",
    "\tDefine Object Oriented Programming Language?\n",
    "Answer:\n",
    "\tObject-Oriented Programming (OOP) is the term used to describe a programming approach based on objects and classes. The object-oriented paradigm allows us to organize software as a collection of objects that consist of both data and behavior. This is in contrast to conventional functional programming practice that only loosely connects data and behavior.\n",
    "\n",
    "\n",
    "\n",
    "\n",
    "\n",
    "\n",
    "\n",
    "\n",
    "\t\n",
    "\n"
   ]
  },
  {
   "cell_type": "markdown",
   "metadata": {},
   "source": [
    "# Question 2:\n",
    "\tList down the benefits of OOP?\n",
    "Answer:\n",
    "1. Modularity for easier troubleshooting\n",
    "2. Reuse of code through inheritance\n",
    "3. Flexibility through polymorphism\n",
    "4. Effective problem solving\n",
    "5. Dynamic Binding\n",
    "\n"
   ]
  },
  {
   "cell_type": "markdown",
   "metadata": {},
   "source": [
    "# Question 3:\n",
    "Differentiate between function and method?\n",
    "Answer:\n",
    "Method\n",
    "1.\tMethod is called by its name, but it is associated to an object (dependent).\n",
    "2.\tA method is implicitly passed the object on which it is invoked.\n",
    "3.\tIt may or may not return any data.\n",
    "4.\tA method can operate on the data (instance variables) that is contained by the corresponding class.\n",
    "Functions\n",
    "1.\tFunction is block of code that is also called by its name. (independent)\n",
    "2.\tThe function can have different parameters or may not have any at all. If any data (parameters) are passed, they are passed explicitly.\n",
    "3.\tIt may or may not return any data.\n",
    "4.\tFunction does not deal with Class and its instance concept.\n",
    "\n"
   ]
  },
  {
   "cell_type": "markdown",
   "metadata": {},
   "source": [
    "# Question 4:\n",
    "\tDefine the following terms:\n",
    "1. Class\n",
    "2. Object\n",
    "3. Attribute\n",
    "4. Behavior\n",
    "Answer:\n",
    "1.\tClass:\n",
    "The creation of objects is based on a programmer-defined blue-print also known as a Class. Classes are like ideas. Objects are concrete manifestations of those ideas.\n",
    "2.\tObject:\n",
    "An object is a component of a program that knows how to perform certain actions and how to interact with other elements of the program.\n",
    "3.\tAttributes:\n",
    "Attributes are data stored inside a class or instance and represent the state or quality of the class or instance. In short, attributes store information about the instance.\n",
    "4.\tBehavior:\n",
    "How an object acts & reacts in terms of states changes & message passing is known as behavior.\n"
   ]
  },
  {
   "cell_type": "code",
   "execution_count": 2,
   "metadata": {},
   "outputs": [],
   "source": [
    "class car:\n",
    "    def __init__(self,name,model,color,company,capacity):\n",
    "        self.name=name\n",
    "        self.model=model\n",
    "        self.color=color\n",
    "        self.company=company\n",
    "        self.capacity=capacity\n",
    "        self.price=0\n",
    "        self.quantity=0\n",
    "        self.fault=\"null\"\n",
    "        \n",
    "    def updatePrice(self,newprice):\n",
    "        self.price=newprice\n",
    "    def updateQuantity(self,newquantity):\n",
    "        self.quantity=newquantity\n",
    "    def updateFault(self,newfault):\n",
    "        self.fault=newfault\n",
    "    \n",
    "        \n",
    "car1=car(\"Mehran\",2012,\"black\",\"suzuki\",\"800 cc\")\n",
    "car2=car(\"Corolla\",2016,\"white\",\"toyota\",\"1800 cc\")\n",
    "car3=car(\"Margalla\",1999,\"green\",\"suzuki\",\"1300 cc\")\n",
    "car4=car(\"fortuner\",2019,\"blue\",\"Toyota\",\"2700 cc\")\n",
    "car5=car(\"Cultus\",2007,\"green\",\"suzuki\",\"1400 cc\")\n",
    "car1.updatePrice(400000)\n",
    "car1.updateQuantity(4)\n",
    "car1.updateFault(\"Old Tyres\")\n"
   ]
  },
  {
   "cell_type": "code",
   "execution_count": null,
   "metadata": {},
   "outputs": [],
   "source": []
  }
 ],
 "metadata": {
  "kernelspec": {
   "display_name": "Python 3",
   "language": "python",
   "name": "python3"
  }
 },
 "nbformat": 4,
 "nbformat_minor": 2
}
