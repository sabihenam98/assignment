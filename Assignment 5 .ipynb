{
 "cells": [
  {
   "cell_type": "code",
   "execution_count": 2,
   "metadata": {},
   "outputs": [
    {
     "name": "stdout",
     "output_type": "stream",
     "text": [
      "Enter any no. : 5\n",
      "120\n"
     ]
    }
   ],
   "source": [
    "def factorial(x):\n",
    "    fact=1\n",
    "    for index in range(x):\n",
    "        fact*=(index+1)\n",
    "    print(fact)\n",
    "a=int(input(\"Enter any no. : \"))\n",
    "factorial(a)"
   ]
  },
  {
   "cell_type": "code",
   "execution_count": 3,
   "metadata": {},
   "outputs": [
    {
     "name": "stdout",
     "output_type": "stream",
     "text": [
      "Enter any String: EmmAd SadIq\n",
      "upercharacters =  4\n",
      "lowercharacters =  6\n"
     ]
    }
   ],
   "source": [
    "\n",
    "def counter(a):\n",
    "    u=0\n",
    "    l=0\n",
    "    for letter in a:\n",
    "        if (letter.isupper())== True:\n",
    "            u+=1\n",
    "        elif (letter.islower())== True: \n",
    "            l+=1\n",
    "    print(\"upercharacters = \",u)\n",
    "    print(\"lowercharacters = \",l)\n",
    "\n",
    "x=input(\"Enter any String: \")\n",
    "counter(x)"
   ]
  },
  {
   "cell_type": "code",
   "execution_count": 4,
   "metadata": {},
   "outputs": [
    {
     "name": "stdout",
     "output_type": "stream",
     "text": [
      "2  is Even no.\n",
      "4  is Even no.\n",
      "6  is Even no.\n",
      "8  is Even no.\n"
     ]
    }
   ],
   "source": [
    "def check(num):\n",
    "    for a in num:\n",
    "        if a%2==0:\n",
    "            print (a,\" is Even no.\")\n",
    "num=[1,2,3,4,5,6,7,8,9]\n",
    "check(num)\n"
   ]
  },
  {
   "cell_type": "code",
   "execution_count": 5,
   "metadata": {},
   "outputs": [
    {
     "name": "stdout",
     "output_type": "stream",
     "text": [
      "Enter Any string : madam\n",
      "madam  is Palindrone.\n"
     ]
    }
   ],
   "source": [
    "def isPalindrome(s):   \n",
    "    rev = ''.join(reversed(s)) \n",
    "    if (s == rev): \n",
    "        print(s,\" is Palindrone.\")\n",
    "    else:\n",
    "        print(s,\" is not Palindrone.\")\n",
    "  \n",
    "\n",
    "x=input (\"Enter Any string : \")\n",
    "isPalindrome(x) \n",
    "  "
   ]
  },
  {
   "cell_type": "code",
   "execution_count": 6,
   "metadata": {},
   "outputs": [
    {
     "name": "stdout",
     "output_type": "stream",
     "text": [
      "Enter any no. : 5\n",
      "5  is prime no.\n"
     ]
    }
   ],
   "source": [
    "def check(a):\n",
    "    i=0\n",
    "    for index in range(a):\n",
    "        if a%(index+1)==0:\n",
    "            i+=1\n",
    "    if i>=3:\n",
    "        print(a,\" is not prime no.\")\n",
    "    else :\n",
    "        print(a,\" is prime no.\")\n",
    "\n",
    "    \n",
    "x=int(input(\"Enter any no. : \"))\n",
    "check(x)"
   ]
  },
  {
   "cell_type": "code",
   "execution_count": 7,
   "metadata": {},
   "outputs": [
    {
     "name": "stdout",
     "output_type": "stream",
     "text": [
      "Enter Shopping item [0 to abort]: shoes\n",
      "Enter Shopping item [0 to abort]: belts\n",
      "Enter Shopping item [0 to abort]: shirts\n",
      "Enter Shopping item [0 to abort]: jeans\n",
      "Enter Shopping item [0 to abort]: 0\n",
      "You purchased: shoes\n",
      "You purchased: belts\n",
      "You purchased: shirts\n",
      "You purchased: jeans\n"
     ]
    }
   ],
   "source": [
    "def shoppingList(*items):\n",
    "        shoppingItems = []\n",
    "        while True:\n",
    "            item = input(\"Enter Shopping item [0 to abort]: \")\n",
    "            if item != '0':\n",
    "                shoppingItems.append(item)\n",
    "            else:\n",
    "                 break\n",
    "    \n",
    "    \n",
    "        for item in range(len(shoppingItems)):\n",
    "             print(\"You purchased: {}\".format(shoppingItems[item]))\n",
    "        \n",
    "shoppingList()\n"
   ]
  },
  {
   "cell_type": "code",
   "execution_count": null,
   "metadata": {},
   "outputs": [],
   "source": []
  }
 ],
 "metadata": {
  "kernelspec": {
   "display_name": "Python 3",
   "language": "python",
   "name": "python3"
  },
  "language_info": {
   "codemirror_mode": {
    "name": "ipython",
    "version": 3
   },
   "file_extension": ".py",
   "mimetype": "text/x-python",
   "name": "python",
   "nbconvert_exporter": "python",
   "pygments_lexer": "ipython3",
   "version": "3.7.4"
  }
 },
 "nbformat": 4,
 "nbformat_minor": 2
}
